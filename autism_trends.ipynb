{
 "cells": [
  {
   "cell_type": "code",
   "execution_count": 1,
   "id": "a7623747",
   "metadata": {},
   "outputs": [],
   "source": [
    "import pandas as pd\n",
    "import numpy as np\n",
    "from scipy import stats\n",
    "import matplotlib.pyplot as plt\n",
    "import seaborn as sns\n",
    "\n",
    "import warnings\n",
    "warnings.filterwarnings(\"ignore\")\n",
    "\n"
   ]
  },
  {
   "cell_type": "code",
   "execution_count": 2,
   "id": "55ee8459",
   "metadata": {},
   "outputs": [],
   "source": [
    "def get_explore_data():\n",
    "    ''' \n",
    "    This function reads in a csv held in the same repository folder\n",
    "    '''\n",
    "    df = pd.read_csv('train.csv')\n",
    "    return df"
   ]
  },
  {
   "cell_type": "code",
   "execution_count": 3,
   "id": "fb351a76",
   "metadata": {},
   "outputs": [],
   "source": [
    "df = get_explore_data()"
   ]
  },
  {
   "cell_type": "code",
   "execution_count": 4,
   "id": "26c720f6",
   "metadata": {},
   "outputs": [
    {
     "name": "stdout",
     "output_type": "stream",
     "text": [
      "<class 'pandas.core.frame.DataFrame'>\n",
      "RangeIndex: 800 entries, 0 to 799\n",
      "Data columns (total 22 columns):\n",
      " #   Column           Non-Null Count  Dtype  \n",
      "---  ------           --------------  -----  \n",
      " 0   ID               800 non-null    int64  \n",
      " 1   A1_Score         800 non-null    int64  \n",
      " 2   A2_Score         800 non-null    int64  \n",
      " 3   A3_Score         800 non-null    int64  \n",
      " 4   A4_Score         800 non-null    int64  \n",
      " 5   A5_Score         800 non-null    int64  \n",
      " 6   A6_Score         800 non-null    int64  \n",
      " 7   A7_Score         800 non-null    int64  \n",
      " 8   A8_Score         800 non-null    int64  \n",
      " 9   A9_Score         800 non-null    int64  \n",
      " 10  A10_Score        800 non-null    int64  \n",
      " 11  age              800 non-null    float64\n",
      " 12  gender           800 non-null    object \n",
      " 13  ethnicity        800 non-null    object \n",
      " 14  jaundice         800 non-null    object \n",
      " 15  austim           800 non-null    object \n",
      " 16  contry_of_res    800 non-null    object \n",
      " 17  used_app_before  800 non-null    object \n",
      " 18  result           800 non-null    float64\n",
      " 19  age_desc         800 non-null    object \n",
      " 20  relation         800 non-null    object \n",
      " 21  Class/ASD        800 non-null    int64  \n",
      "dtypes: float64(2), int64(12), object(8)\n",
      "memory usage: 137.6+ KB\n"
     ]
    }
   ],
   "source": [
    "df.info()"
   ]
  },
  {
   "cell_type": "code",
   "execution_count": 5,
   "id": "506c7236",
   "metadata": {},
   "outputs": [
    {
     "data": {
      "text/plain": [
       "True     448\n",
       "False    352\n",
       "Name: A1_Score, dtype: int64"
      ]
     },
     "execution_count": 5,
     "metadata": {},
     "output_type": "execute_result"
    }
   ],
   "source": [
    "(df.A1_Score == 1).value_counts()"
   ]
  },
  {
   "cell_type": "code",
   "execution_count": 8,
   "id": "e99e6c47",
   "metadata": {},
   "outputs": [
    {
     "data": {
      "text/plain": [
       "(800, 22)"
      ]
     },
     "execution_count": 8,
     "metadata": {},
     "output_type": "execute_result"
    }
   ],
   "source": [
    "df.shape"
   ]
  },
  {
   "cell_type": "code",
   "execution_count": 11,
   "id": "ce121028",
   "metadata": {},
   "outputs": [
    {
     "ename": "SyntaxError",
     "evalue": "cannot assign to function call (4013492193.py, line 1)",
     "output_type": "error",
     "traceback": [
      "\u001b[0;36m  Input \u001b[0;32mIn [11]\u001b[0;36m\u001b[0m\n\u001b[0;31m    df.copy() = scores_only\u001b[0m\n\u001b[0m    ^\u001b[0m\n\u001b[0;31mSyntaxError\u001b[0m\u001b[0;31m:\u001b[0m cannot assign to function call\n"
     ]
    }
   ],
   "source": [
    "df.copy() = scores_only"
   ]
  },
  {
   "cell_type": "code",
   "execution_count": 12,
   "id": "bb824033",
   "metadata": {},
   "outputs": [
    {
     "ename": "AttributeError",
     "evalue": "'function' object has no attribute 'shape'",
     "output_type": "error",
     "traceback": [
      "\u001b[0;31m---------------------------------------------------------------------------\u001b[0m",
      "\u001b[0;31mAttributeError\u001b[0m                            Traceback (most recent call last)",
      "Input \u001b[0;32mIn [12]\u001b[0m, in \u001b[0;36m<cell line: 1>\u001b[0;34m()\u001b[0m\n\u001b[0;32m----> 1\u001b[0m \u001b[43mscores_only\u001b[49m\u001b[38;5;241;43m.\u001b[39;49m\u001b[43mshape\u001b[49m\n",
      "\u001b[0;31mAttributeError\u001b[0m: 'function' object has no attribute 'shape'"
     ]
    }
   ],
   "source": [
    "scores_only.shape"
   ]
  },
  {
   "cell_type": "code",
   "execution_count": null,
   "id": "eb7ec4c5",
   "metadata": {},
   "outputs": [],
   "source": []
  }
 ],
 "metadata": {
  "kernelspec": {
   "display_name": "Python 3 (ipykernel)",
   "language": "python",
   "name": "python3"
  },
  "language_info": {
   "codemirror_mode": {
    "name": "ipython",
    "version": 3
   },
   "file_extension": ".py",
   "mimetype": "text/x-python",
   "name": "python",
   "nbconvert_exporter": "python",
   "pygments_lexer": "ipython3",
   "version": "3.9.12"
  }
 },
 "nbformat": 4,
 "nbformat_minor": 5
}
