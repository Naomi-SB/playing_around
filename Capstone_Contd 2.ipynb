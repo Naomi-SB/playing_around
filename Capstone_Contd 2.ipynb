{
 "cells": [
  {
   "cell_type": "code",
   "execution_count": 2,
   "id": "7425ef79",
   "metadata": {},
   "outputs": [],
   "source": [
    "import pandas as pd\n",
    "import numpy as np\n",
    "\n",
    "import matplotlib.pyplot as plt\n",
    "import seaborn as sns\n",
    "\n",
    "import warnings\n",
    "warnings.filterwarnings(\"ignore\")\n",
    "\n",
    "import wrangle as w\n",
    "import model as m\n",
    "\n",
    "from importlib import reload"
   ]
  },
  {
   "cell_type": "code",
   "execution_count": 4,
   "id": "a06b5f92",
   "metadata": {},
   "outputs": [],
   "source": [
    "df = w.get_explore_data()"
   ]
  },
  {
   "cell_type": "code",
   "execution_count": 5,
   "id": "99d7a94d",
   "metadata": {},
   "outputs": [],
   "source": [
    "df = w.get_contest_data(df)"
   ]
  },
  {
   "cell_type": "code",
   "execution_count": 6,
   "id": "e5e0e6e4",
   "metadata": {},
   "outputs": [
    {
     "data": {
      "text/html": [
       "<div>\n",
       "<style scoped>\n",
       "    .dataframe tbody tr th:only-of-type {\n",
       "        vertical-align: middle;\n",
       "    }\n",
       "\n",
       "    .dataframe tbody tr th {\n",
       "        vertical-align: top;\n",
       "    }\n",
       "\n",
       "    .dataframe thead th {\n",
       "        text-align: right;\n",
       "    }\n",
       "</style>\n",
       "<table border=\"1\" class=\"dataframe\">\n",
       "  <thead>\n",
       "    <tr style=\"text-align: right;\">\n",
       "      <th></th>\n",
       "      <th>region</th>\n",
       "      <th>elevation</th>\n",
       "      <th>lat</th>\n",
       "      <th>lon</th>\n",
       "      <th>startdate</th>\n",
       "      <th>potential_evap</th>\n",
       "      <th>precip</th>\n",
       "      <th>barometric_pressure</th>\n",
       "      <th>all_atmos_precip</th>\n",
       "      <th>relative_humidity</th>\n",
       "      <th>...</th>\n",
       "      <th>height_500_mb</th>\n",
       "      <th>height_850_mb</th>\n",
       "      <th>zonal_wind_250mb</th>\n",
       "      <th>zonal_wind_925mb</th>\n",
       "      <th>long_wind_250mb</th>\n",
       "      <th>long_wind_925mb</th>\n",
       "      <th>elevation_range</th>\n",
       "      <th>region_bins</th>\n",
       "      <th>month</th>\n",
       "      <th>season</th>\n",
       "    </tr>\n",
       "  </thead>\n",
       "  <tbody>\n",
       "    <tr>\n",
       "      <th>0</th>\n",
       "      <td>BSh</td>\n",
       "      <td>200.0</td>\n",
       "      <td>0.0</td>\n",
       "      <td>0.833333</td>\n",
       "      <td>2014-09-01</td>\n",
       "      <td>237.00</td>\n",
       "      <td>94.31</td>\n",
       "      <td>98644.97</td>\n",
       "      <td>42.45</td>\n",
       "      <td>81.72</td>\n",
       "      <td>...</td>\n",
       "      <td>5899.66</td>\n",
       "      <td>1535.52</td>\n",
       "      <td>-2.56</td>\n",
       "      <td>-5.22</td>\n",
       "      <td>-3.52</td>\n",
       "      <td>4.41</td>\n",
       "      <td>bottom_low</td>\n",
       "      <td>Dry</td>\n",
       "      <td>9</td>\n",
       "      <td>Autumn</td>\n",
       "    </tr>\n",
       "    <tr>\n",
       "      <th>1</th>\n",
       "      <td>BSh</td>\n",
       "      <td>200.0</td>\n",
       "      <td>0.0</td>\n",
       "      <td>0.833333</td>\n",
       "      <td>2014-09-02</td>\n",
       "      <td>228.90</td>\n",
       "      <td>100.85</td>\n",
       "      <td>98686.80</td>\n",
       "      <td>42.66</td>\n",
       "      <td>82.56</td>\n",
       "      <td>...</td>\n",
       "      <td>5901.03</td>\n",
       "      <td>1538.00</td>\n",
       "      <td>-2.39</td>\n",
       "      <td>-5.20</td>\n",
       "      <td>-4.49</td>\n",
       "      <td>3.74</td>\n",
       "      <td>bottom_low</td>\n",
       "      <td>Dry</td>\n",
       "      <td>9</td>\n",
       "      <td>Autumn</td>\n",
       "    </tr>\n",
       "    <tr>\n",
       "      <th>2</th>\n",
       "      <td>BSh</td>\n",
       "      <td>200.0</td>\n",
       "      <td>0.0</td>\n",
       "      <td>0.833333</td>\n",
       "      <td>2014-09-03</td>\n",
       "      <td>220.69</td>\n",
       "      <td>101.25</td>\n",
       "      <td>98712.85</td>\n",
       "      <td>43.23</td>\n",
       "      <td>83.29</td>\n",
       "      <td>...</td>\n",
       "      <td>5902.18</td>\n",
       "      <td>1540.32</td>\n",
       "      <td>-2.76</td>\n",
       "      <td>-5.00</td>\n",
       "      <td>-5.44</td>\n",
       "      <td>3.40</td>\n",
       "      <td>bottom_low</td>\n",
       "      <td>Dry</td>\n",
       "      <td>9</td>\n",
       "      <td>Autumn</td>\n",
       "    </tr>\n",
       "    <tr>\n",
       "      <th>3</th>\n",
       "      <td>BSh</td>\n",
       "      <td>200.0</td>\n",
       "      <td>0.0</td>\n",
       "      <td>0.833333</td>\n",
       "      <td>2014-09-04</td>\n",
       "      <td>225.28</td>\n",
       "      <td>101.90</td>\n",
       "      <td>98711.70</td>\n",
       "      <td>43.11</td>\n",
       "      <td>83.26</td>\n",
       "      <td>...</td>\n",
       "      <td>5903.07</td>\n",
       "      <td>1541.10</td>\n",
       "      <td>-3.00</td>\n",
       "      <td>-4.61</td>\n",
       "      <td>-5.76</td>\n",
       "      <td>3.29</td>\n",
       "      <td>bottom_low</td>\n",
       "      <td>Dry</td>\n",
       "      <td>9</td>\n",
       "      <td>Autumn</td>\n",
       "    </tr>\n",
       "    <tr>\n",
       "      <th>4</th>\n",
       "      <td>BSh</td>\n",
       "      <td>200.0</td>\n",
       "      <td>0.0</td>\n",
       "      <td>0.833333</td>\n",
       "      <td>2014-09-05</td>\n",
       "      <td>237.24</td>\n",
       "      <td>82.95</td>\n",
       "      <td>98686.46</td>\n",
       "      <td>42.98</td>\n",
       "      <td>82.50</td>\n",
       "      <td>...</td>\n",
       "      <td>5903.36</td>\n",
       "      <td>1539.73</td>\n",
       "      <td>-3.40</td>\n",
       "      <td>-4.25</td>\n",
       "      <td>-6.09</td>\n",
       "      <td>3.27</td>\n",
       "      <td>bottom_low</td>\n",
       "      <td>Dry</td>\n",
       "      <td>9</td>\n",
       "      <td>Autumn</td>\n",
       "    </tr>\n",
       "  </tbody>\n",
       "</table>\n",
       "<p>5 rows × 24 columns</p>\n",
       "</div>"
      ],
      "text/plain": [
       "  region  elevation  lat       lon  startdate  potential_evap  precip  \\\n",
       "0    BSh      200.0  0.0  0.833333 2014-09-01          237.00   94.31   \n",
       "1    BSh      200.0  0.0  0.833333 2014-09-02          228.90  100.85   \n",
       "2    BSh      200.0  0.0  0.833333 2014-09-03          220.69  101.25   \n",
       "3    BSh      200.0  0.0  0.833333 2014-09-04          225.28  101.90   \n",
       "4    BSh      200.0  0.0  0.833333 2014-09-05          237.24   82.95   \n",
       "\n",
       "   barometric_pressure  all_atmos_precip  relative_humidity  ...  \\\n",
       "0             98644.97             42.45              81.72  ...   \n",
       "1             98686.80             42.66              82.56  ...   \n",
       "2             98712.85             43.23              83.29  ...   \n",
       "3             98711.70             43.11              83.26  ...   \n",
       "4             98686.46             42.98              82.50  ...   \n",
       "\n",
       "   height_500_mb  height_850_mb  zonal_wind_250mb  zonal_wind_925mb  \\\n",
       "0        5899.66        1535.52             -2.56             -5.22   \n",
       "1        5901.03        1538.00             -2.39             -5.20   \n",
       "2        5902.18        1540.32             -2.76             -5.00   \n",
       "3        5903.07        1541.10             -3.00             -4.61   \n",
       "4        5903.36        1539.73             -3.40             -4.25   \n",
       "\n",
       "   long_wind_250mb  long_wind_925mb  elevation_range  region_bins  month  \\\n",
       "0            -3.52             4.41       bottom_low          Dry      9   \n",
       "1            -4.49             3.74       bottom_low          Dry      9   \n",
       "2            -5.44             3.40       bottom_low          Dry      9   \n",
       "3            -5.76             3.29       bottom_low          Dry      9   \n",
       "4            -6.09             3.27       bottom_low          Dry      9   \n",
       "\n",
       "   season  \n",
       "0  Autumn  \n",
       "1  Autumn  \n",
       "2  Autumn  \n",
       "3  Autumn  \n",
       "4  Autumn  \n",
       "\n",
       "[5 rows x 24 columns]"
      ]
     },
     "execution_count": 6,
     "metadata": {},
     "output_type": "execute_result"
    }
   ],
   "source": [
    "df.head()"
   ]
  },
  {
   "cell_type": "code",
   "execution_count": 7,
   "id": "8d309cfe",
   "metadata": {},
   "outputs": [
    {
     "name": "stdout",
     "output_type": "stream",
     "text": [
      "<class 'pandas.core.frame.DataFrame'>\n",
      "RangeIndex: 375734 entries, 0 to 375733\n",
      "Data columns (total 24 columns):\n",
      " #   Column               Non-Null Count   Dtype         \n",
      "---  ------               --------------   -----         \n",
      " 0   region               375734 non-null  object        \n",
      " 1   elevation            375734 non-null  float64       \n",
      " 2   lat                  375734 non-null  float64       \n",
      " 3   lon                  375734 non-null  float64       \n",
      " 4   startdate            375734 non-null  datetime64[ns]\n",
      " 5   potential_evap       375734 non-null  float64       \n",
      " 6   precip               375734 non-null  float64       \n",
      " 7   barometric_pressure  375734 non-null  float64       \n",
      " 8   all_atmos_precip     375734 non-null  float64       \n",
      " 9   relative_humidity    375734 non-null  float64       \n",
      " 10  sea_level_press      375734 non-null  float64       \n",
      " 11  mean_temp            375734 non-null  float64       \n",
      " 12  height_10_mb         375734 non-null  float64       \n",
      " 13  height_100_mb        375734 non-null  float64       \n",
      " 14  height_500_mb        375734 non-null  float64       \n",
      " 15  height_850_mb        375734 non-null  float64       \n",
      " 16  zonal_wind_250mb     375734 non-null  float64       \n",
      " 17  zonal_wind_925mb     375734 non-null  float64       \n",
      " 18  long_wind_250mb      375734 non-null  float64       \n",
      " 19  long_wind_925mb      375734 non-null  float64       \n",
      " 20  elevation_range      375734 non-null  category      \n",
      " 21  region_bins          375734 non-null  object        \n",
      " 22  month                375734 non-null  int64         \n",
      " 23  season               375734 non-null  object        \n",
      "dtypes: category(1), datetime64[ns](1), float64(18), int64(1), object(3)\n",
      "memory usage: 66.3+ MB\n"
     ]
    }
   ],
   "source": [
    "df.info()"
   ]
  },
  {
   "cell_type": "markdown",
   "id": "5615ddf3",
   "metadata": {},
   "source": [
    "# splitting into TVT so conclusions reached in exploration can be immediately modeled on"
   ]
  },
  {
   "cell_type": "code",
   "execution_count": 9,
   "id": "f0468051",
   "metadata": {},
   "outputs": [
    {
     "data": {
      "text/plain": [
       "(375734, 24)"
      ]
     },
     "execution_count": 9,
     "metadata": {},
     "output_type": "execute_result"
    }
   ],
   "source": [
    "df.shape"
   ]
  },
  {
   "cell_type": "code",
   "execution_count": 10,
   "id": "f75523b9",
   "metadata": {},
   "outputs": [],
   "source": [
    "train, validate, test = w.split_data(df)"
   ]
  },
  {
   "cell_type": "code",
   "execution_count": 11,
   "id": "f4e66a81",
   "metadata": {},
   "outputs": [
    {
     "data": {
      "text/plain": [
       "((244226, 24), (75147, 24), (56361, 24))"
      ]
     },
     "execution_count": 11,
     "metadata": {},
     "output_type": "execute_result"
    }
   ],
   "source": [
    "train.shape, validate.shape, test.shape"
   ]
  },
  {
   "cell_type": "code",
   "execution_count": null,
   "id": "daf0973f",
   "metadata": {},
   "outputs": [],
   "source": []
  },
  {
   "cell_type": "markdown",
   "id": "74cd620c",
   "metadata": {},
   "source": [
    "# season bins already created, so making individual dfs based on season for further exploration"
   ]
  },
  {
   "cell_type": "code",
   "execution_count": 14,
   "id": "56ee7e3c",
   "metadata": {},
   "outputs": [],
   "source": [
    "def autumn(df):\n",
    "    df = df[(df.season == 'Autumn')]\n",
    "    return df\n",
    "\n",
    "def spring(df):\n",
    "    df = df[(df.season == 'Spring')]\n",
    "    return df\n",
    "\n",
    "def summer(df):\n",
    "    df = df[(df.season == 'Summer')]\n",
    "    return df\n",
    "\n",
    "def winter(df):\n",
    "    df = df[(df.season == 'Winter')]\n",
    "    return df\n",
    "\n"
   ]
  },
  {
   "cell_type": "code",
   "execution_count": 15,
   "id": "fcaa6509",
   "metadata": {},
   "outputs": [],
   "source": [
    "autumn = autumn(df)\n",
    "spring = spring(df)\n",
    "summer = summer(df)\n",
    "winter = winter(df)"
   ]
  },
  {
   "cell_type": "code",
   "execution_count": 18,
   "id": "2392cad4",
   "metadata": {},
   "outputs": [
    {
     "data": {
      "text/plain": [
       "((93548, 24), (94576, 24), (94576, 24), (93034, 24))"
      ]
     },
     "execution_count": 18,
     "metadata": {},
     "output_type": "execute_result"
    }
   ],
   "source": [
    "autumn.shape, spring.shape, summer.shape, winter.shape"
   ]
  },
  {
   "cell_type": "markdown",
   "id": "21d32670",
   "metadata": {},
   "source": [
    "### running value counts to ensure they align with original train df\n",
    "### Autumn: check, Spring: check, Summer: check, Winter: check"
   ]
  },
  {
   "cell_type": "code",
   "execution_count": 24,
   "id": "6801a994",
   "metadata": {},
   "outputs": [
    {
     "data": {
      "text/plain": [
       "season\n",
       "False    282700\n",
       "True      93034\n",
       "dtype: int64"
      ]
     },
     "execution_count": 24,
     "metadata": {},
     "output_type": "execute_result"
    }
   ],
   "source": [
    "df.value_counts(df.season == 'Winter')"
   ]
  },
  {
   "cell_type": "markdown",
   "id": "c8ffc611",
   "metadata": {},
   "source": [
    "# Now that we have our data isolated by season, let's see other trends "
   ]
  },
  {
   "cell_type": "markdown",
   "id": "ce8713f9",
   "metadata": {},
   "source": [
    "# 1) Autumn\n",
    "### Hypotheses:\n",
    "- strong correlation between precipitation and temp\n",
    "- region will be less signiicant than it is for the og df\n",
    "- elevation and elevation range will be more significant than for the ogdf"
   ]
  },
  {
   "cell_type": "code",
   "execution_count": null,
   "id": "1065847b",
   "metadata": {},
   "outputs": [],
   "source": [
    "addedd"
   ]
  }
 ],
 "metadata": {
  "kernelspec": {
   "display_name": "Python 3 (ipykernel)",
   "language": "python",
   "name": "python3"
  },
  "language_info": {
   "codemirror_mode": {
    "name": "ipython",
    "version": 3
   },
   "file_extension": ".py",
   "mimetype": "text/x-python",
   "name": "python",
   "nbconvert_exporter": "python",
   "pygments_lexer": "ipython3",
   "version": "3.9.12"
  }
 },
 "nbformat": 4,
 "nbformat_minor": 5
}
