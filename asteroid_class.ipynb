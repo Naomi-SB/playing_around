{
 "cells": [
  {
   "cell_type": "code",
   "execution_count": 1,
   "id": "f5ecb6b6",
   "metadata": {},
   "outputs": [],
   "source": [
    "import pandas as pd\n",
    "import numpy as np\n",
    "from scipy import stats\n",
    "import matplotlib.pyplot as plt\n",
    "import seaborn as sns\n",
    "\n",
    "import warnings\n",
    "warnings.filterwarnings(\"ignore\")\n",
    "\n"
   ]
  },
  {
   "cell_type": "code",
   "execution_count": 2,
   "id": "ca29010c",
   "metadata": {},
   "outputs": [],
   "source": [
    "df = pd.read_csv('sbdb_query_results.csv')"
   ]
  },
  {
   "cell_type": "code",
   "execution_count": 3,
   "id": "a14df3b9",
   "metadata": {},
   "outputs": [
    {
     "data": {
      "text/html": [
       "<div>\n",
       "<style scoped>\n",
       "    .dataframe tbody tr th:only-of-type {\n",
       "        vertical-align: middle;\n",
       "    }\n",
       "\n",
       "    .dataframe tbody tr th {\n",
       "        vertical-align: top;\n",
       "    }\n",
       "\n",
       "    .dataframe thead th {\n",
       "        text-align: right;\n",
       "    }\n",
       "</style>\n",
       "<table border=\"1\" class=\"dataframe\">\n",
       "  <thead>\n",
       "    <tr style=\"text-align: right;\">\n",
       "      <th></th>\n",
       "      <th>spkid</th>\n",
       "      <th>neo</th>\n",
       "      <th>pha</th>\n",
       "      <th>spec_B</th>\n",
       "      <th>spec_T</th>\n",
       "      <th>class</th>\n",
       "      <th>data_arc</th>\n",
       "    </tr>\n",
       "  </thead>\n",
       "  <tbody>\n",
       "    <tr>\n",
       "      <th>0</th>\n",
       "      <td>2000001</td>\n",
       "      <td>N</td>\n",
       "      <td>N</td>\n",
       "      <td>C</td>\n",
       "      <td>G</td>\n",
       "      <td>MBA</td>\n",
       "      <td>9520.0</td>\n",
       "    </tr>\n",
       "    <tr>\n",
       "      <th>1</th>\n",
       "      <td>2000002</td>\n",
       "      <td>N</td>\n",
       "      <td>N</td>\n",
       "      <td>B</td>\n",
       "      <td>B</td>\n",
       "      <td>MBA</td>\n",
       "      <td>79663.0</td>\n",
       "    </tr>\n",
       "    <tr>\n",
       "      <th>2</th>\n",
       "      <td>2000003</td>\n",
       "      <td>N</td>\n",
       "      <td>N</td>\n",
       "      <td>Sk</td>\n",
       "      <td>S</td>\n",
       "      <td>MBA</td>\n",
       "      <td>79720.0</td>\n",
       "    </tr>\n",
       "    <tr>\n",
       "      <th>3</th>\n",
       "      <td>2000004</td>\n",
       "      <td>N</td>\n",
       "      <td>N</td>\n",
       "      <td>V</td>\n",
       "      <td>V</td>\n",
       "      <td>MBA</td>\n",
       "      <td>25743.0</td>\n",
       "    </tr>\n",
       "    <tr>\n",
       "      <th>4</th>\n",
       "      <td>2000005</td>\n",
       "      <td>N</td>\n",
       "      <td>N</td>\n",
       "      <td>S</td>\n",
       "      <td>S</td>\n",
       "      <td>MBA</td>\n",
       "      <td>64671.0</td>\n",
       "    </tr>\n",
       "  </tbody>\n",
       "</table>\n",
       "</div>"
      ],
      "text/plain": [
       "     spkid neo pha spec_B spec_T class  data_arc\n",
       "0  2000001   N   N      C      G   MBA    9520.0\n",
       "1  2000002   N   N      B      B   MBA   79663.0\n",
       "2  2000003   N   N     Sk      S   MBA   79720.0\n",
       "3  2000004   N   N      V      V   MBA   25743.0\n",
       "4  2000005   N   N      S      S   MBA   64671.0"
      ]
     },
     "execution_count": 3,
     "metadata": {},
     "output_type": "execute_result"
    }
   ],
   "source": [
    "df.head()"
   ]
  },
  {
   "cell_type": "code",
   "execution_count": 4,
   "id": "5d23e10e",
   "metadata": {},
   "outputs": [
    {
     "data": {
      "text/plain": [
       "N    1242061\n",
       "Y      31474\n",
       "Name: neo, dtype: int64"
      ]
     },
     "execution_count": 4,
     "metadata": {},
     "output_type": "execute_result"
    }
   ],
   "source": [
    "df.neo.value_counts()"
   ]
  },
  {
   "cell_type": "code",
   "execution_count": 5,
   "id": "4876c094",
   "metadata": {},
   "outputs": [
    {
     "name": "stdout",
     "output_type": "stream",
     "text": [
      "2000001     1\n",
      "54167255    1\n",
      "3664131     1\n",
      "3664130     1\n",
      "3664127     1\n",
      "           ..\n",
      "2424513     1\n",
      "2424512     1\n",
      "2424511     1\n",
      "2424510     1\n",
      "3013075     1\n",
      "Name: spkid, Length: 1273538, dtype: int64\n",
      "N    1242061\n",
      "Y      31474\n",
      "Name: neo, dtype: int64\n",
      "N    1264587\n",
      "Y       2321\n",
      "Name: pha, dtype: int64\n",
      "S        445\n",
      "C        152\n",
      "Ch       139\n",
      "X        138\n",
      "Sq       114\n",
      "Xc        67\n",
      "B         66\n",
      "Sl        56\n",
      "V         48\n",
      "Xk        48\n",
      "L         41\n",
      "Sa        38\n",
      "Cb        37\n",
      "K         37\n",
      "Xe        30\n",
      "Sk        29\n",
      "Sr        27\n",
      "Q         20\n",
      "T         19\n",
      "A         17\n",
      "S:        16\n",
      "Ld        15\n",
      "Cgh       15\n",
      "D         13\n",
      "Cg         9\n",
      "O          7\n",
      "X:         6\n",
      "R          5\n",
      "U          4\n",
      "C:         3\n",
      "Sq:        2\n",
      "S(IV)      1\n",
      "K:         1\n",
      "V:         1\n",
      "Name: spec_B, dtype: int64\n",
      "S       338\n",
      "C       140\n",
      "X        52\n",
      "M        38\n",
      "D        35\n",
      "       ... \n",
      "STGD      1\n",
      "DX:       1\n",
      "CP:       1\n",
      "SD        1\n",
      "Z         1\n",
      "Name: spec_T, Length: 131, dtype: int64\n",
      "MBA    1133733\n",
      "OMB      39185\n",
      "IMB      27333\n",
      "MCA      24154\n",
      "APO      17691\n",
      "TJN      12488\n",
      "AMO      11288\n",
      "TNO       4352\n",
      "ATE       2466\n",
      "CEN        689\n",
      "AST        127\n",
      "IEO         29\n",
      "HYA          3\n",
      "Name: class, dtype: int64\n",
      "4.0        7519\n",
      "3.0        6114\n",
      "2.0        5756\n",
      "1.0        3611\n",
      "5.0        3441\n",
      "           ... \n",
      "35198.0       1\n",
      "23271.0       1\n",
      "26704.0       1\n",
      "25498.0       1\n",
      "22229.0       1\n",
      "Name: data_arc, Length: 23218, dtype: int64\n"
     ]
    }
   ],
   "source": [
    "for column in df:\n",
    "    print(df[column].value_counts())\n"
   ]
  },
  {
   "cell_type": "code",
   "execution_count": 6,
   "id": "408a40c8",
   "metadata": {},
   "outputs": [
    {
     "name": "stdout",
     "output_type": "stream",
     "text": [
      "<class 'pandas.core.frame.DataFrame'>\n",
      "RangeIndex: 1273538 entries, 0 to 1273537\n",
      "Data columns (total 7 columns):\n",
      " #   Column    Non-Null Count    Dtype  \n",
      "---  ------    --------------    -----  \n",
      " 0   spkid     1273538 non-null  int64  \n",
      " 1   neo       1273535 non-null  object \n",
      " 2   pha       1266908 non-null  object \n",
      " 3   spec_B    1666 non-null     object \n",
      " 4   spec_T    980 non-null      object \n",
      " 5   class     1273538 non-null  object \n",
      " 6   data_arc  1270850 non-null  float64\n",
      "dtypes: float64(1), int64(1), object(5)\n",
      "memory usage: 68.0+ MB\n"
     ]
    }
   ],
   "source": [
    "df.info()"
   ]
  },
  {
   "cell_type": "code",
   "execution_count": 7,
   "id": "9b202380",
   "metadata": {},
   "outputs": [
    {
     "data": {
      "text/plain": [
       "<AxesSubplot:>"
      ]
     },
     "execution_count": 7,
     "metadata": {},
     "output_type": "execute_result"
    },
    {
     "data": {
      "image/png": "[encoded data removed]",
      "text/plain": [
       "<Figure size 432x288 with 1 Axes>"
      ]
     },
     "metadata": {
      "needs_background": "light"
     },
     "output_type": "display_data"
    }
   ],
   "source": [
    "df.data_arc.hist()"
   ]
  },
  {
   "cell_type": "code",
   "execution_count": 9,
   "id": "0dd2e582",
   "metadata": {},
   "outputs": [
    {
     "data": {
      "text/plain": [
       "N    1264587\n",
       "Y       2321\n",
       "Name: pha, dtype: int64"
      ]
     },
     "execution_count": 9,
     "metadata": {},
     "output_type": "execute_result"
    }
   ],
   "source": [
    "df.pha.value_counts()"
   ]
  },
  {
   "cell_type": "code",
   "execution_count": null,
   "id": "856f4ae9",
   "metadata": {},
   "outputs": [],
   "source": []
  }
 ],
 "metadata": {
  "kernelspec": {
   "display_name": "Python 3 (ipykernel)",
   "language": "python",
   "name": "python3"
  },
  "language_info": {
   "codemirror_mode": {
    "name": "ipython",
    "version": 3
   },
   "file_extension": ".py",
   "mimetype": "text/x-python",
   "name": "python",
   "nbconvert_exporter": "python",
   "pygments_lexer": "ipython3",
   "version": "3.9.12"
  }
 },
 "nbformat": 4,
 "nbformat_minor": 5
}
